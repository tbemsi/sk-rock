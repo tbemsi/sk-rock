{
 "cells": [
  {
   "cell_type": "markdown",
   "metadata": {},
   "source": [
    "# Implementing SK-ROCK algorithm - Application to CS-MRI\n",
    "\n",
    "In this notebook I implement the recently-developed algorithm by Luis Vargas, Marcelo Pereyra and Konstantinos Zygakalis found in [this paper](https://arxiv.org/pdf/1908.08845.pdf)."
   ]
  },
  {
   "cell_type": "code",
   "execution_count": 1,
   "metadata": {},
   "outputs": [],
   "source": [
    "%matplotlib inline\n",
    "\n",
    "import numpy as np\n",
    "import matplotlib.pyplot as plt\n",
    "from numpy.fft import fftshift, ifftshift\n",
    "from skimage import data, img_as_float\n",
    "import helper as t"
   ]
  },
  {
   "cell_type": "markdown",
   "metadata": {},
   "source": [
    "The image we will be working with for the purposes of this project is the [Shepp Logan phantom](https://en.wikipedia.org/wiki/Shepp%E2%80%93Logan_phantom), and so we load it in the next cell."
   ]
  },
  {
   "cell_type": "code",
   "execution_count": 2,
   "metadata": {},
   "outputs": [
    {
     "data": {
      "image/png": "[encoded data removed]",
      "text/plain": [
       "<Figure size 432x288 with 1 Axes>"
      ]
     },
     "metadata": {
      "needs_background": "light"
     },
     "output_type": "display_data"
    }
   ],
   "source": [
    "phantom = np.load('phantom.npy')\n",
    "plt.imshow(phantom)\n",
    "plt.show()"
   ]
  },
  {
   "cell_type": "markdown",
   "metadata": {},
   "source": [
    "### The mask"
   ]
  },
  {
   "cell_type": "code",
   "execution_count": 3,
   "metadata": {},
   "outputs": [],
   "source": [
    "mask_temp = t.LineMask(number_of_angles=36, dim=128)\n",
    "mask = fftshift(mask_temp)\n",
    "fourier_op = lambda x: t.masked_FFT(x, mask)\n",
    "fourier_op_adj = lambda x: np.real(t.masked_FFT_t(x, mask))"
   ]
  },
  {
   "cell_type": "code",
   "execution_count": 4,
   "metadata": {},
   "outputs": [
    {
     "data": {
      "image/png": "[encoded data removed]",
      "text/plain": [
       "<Figure size 432x288 with 1 Axes>"
      ]
     },
     "metadata": {
      "needs_background": "light"
     },
     "output_type": "display_data"
    }
   ],
   "source": [
    "plt.imshow(mask)\n",
    "plt.show()"
   ]
  },
  {
   "cell_type": "markdown",
   "metadata": {},
   "source": [
    "### Generation of noisy image (prior)"
   ]
  },
  {
   "cell_type": "code",
   "execution_count": 5,
   "metadata": {},
   "outputs": [],
   "source": [
    "## generate 'y'\n",
    "sigma = 1e-3/np.sqrt(2)\n",
    "transformed_data = fourier_op(phantom)\n",
    "y = transformed_data + sigma*(np.random.randn(transformed_data.size)+ \n",
    "                             1j*np.random.randn(transformed_data.size))"
   ]
  },
  {
   "cell_type": "markdown",
   "metadata": {},
   "source": [
    "## SK-ROCK Algorithm\n",
    "\n",
    "The following function generates a given number of samples, given original data, according to the SK-ROCK algorithm"
   ]
  },
  {
   "cell_type": "code",
   "execution_count": 6,
   "metadata": {},
   "outputs": [],
   "source": [
    "def sk_rock(original_data, num_samples, sigma=1e-3/np.sqrt(2), num_stages=10, eta=0.05 ):\n",
    "    \"\"\"\n",
    "    Generates samples from high-dimensional distributions, according to SK-ROCK \n",
    "    algorithm proposed by Luis Vargas et al (2019).\n",
    "    \n",
    "    INPUTS:\n",
    "     - original_data: \n",
    "     - image: number of samples to generate\n",
    "     - sigma:\n",
    "     - eta: \n",
    "     - num_stages: number of internal Runge-Kutta stages\n",
    "    \n",
    "    OUTPUTS:\n",
    "     - the total-variation proximal operator of the image\n",
    "     \n",
    "    \"\"\"\n",
    "    alpha = 5e-4/sigma**2 # hyperparameter of prior\n",
    "    lam = 0.2 *sigma**2  #approximation parameter of the MY envelop\n",
    "    lipschitz_log_likelihood = 1/sigma**2 #Lipschitz constant of the log-likelihood \n",
    "    \n",
    "    \n",
    "    ## Gradients - proximal gradients and other functions\n",
    "    def gradF(x):\n",
    "        return (fourier_op_adj(fourier_op(x) - y))/sigma**2\n",
    "        \n",
    "    \n",
    "    def proxG(x, param=1.25e-20):\n",
    "        return t.chambolle_prox_TV(phantom, param, 25)\n",
    "    \n",
    "    def gradG(x):\n",
    "        return (x - proxG(x))/lam\n",
    "    \n",
    "    def gradU(x):\n",
    "        return gradF(x) + gradG(x)\n",
    "    \n",
    "    def logPi(x):\n",
    "        return -(np.linalg.norm(y - fourier_op(x))**2)/(2*sigma**2) - alpha*t.TVnorm(x)\n",
    "    \n",
    "       \n",
    "    l = (num_stages - 0.5)**2 * (2 - (4/3)*eta) - 1.5\n",
    "    step_size = 0.8*l/(lipschitz_log_likelihood + 1/lam)\n",
    "        \n",
    "    omega_0 = 1 + eta/num_stages**2\n",
    "    omega_1 = t.chebyshev(num_stages, omega_0)/t.chebyshev_prime(num_stages, omega_0)\n",
    "    mu_1 = omega_1/omega_0\n",
    "    nu_1 = num_stages*omega_1/2\n",
    "    kappa_1 = num_stages*omega_1/omega_0\n",
    "    dimension = original_data.shape[0]\n",
    "    \n",
    "    \n",
    "    K = np.ndarray((num_stages, dimension, dimension), dtype=float)\n",
    "    data = np.ndarray((num_samples, dimension, dimension), dtype=float)\n",
    "    logPiTraces = np.zeros(num_samples)\n",
    "    data[0] = original_data\n",
    "    logPiTraces[0] = logPi(data[0])\n",
    "    \n",
    "    for i in range(num_samples-1):\n",
    "        Z = np.random.randn(dimension, dimension)\n",
    "        K[0] = data[i]\n",
    "        K[1] = K[0] - mu_1*step_size*gradU(K[0] + \n",
    "                    nu_1*np.sqrt(2*step_size)*Z) + kappa_1*np.sqrt(2*step_size)*Z\n",
    "        \n",
    "        for j in range(2,num_stages):\n",
    "            mu = 2*omega_1*t.chebyshev(j-1, omega_0)/t.chebyshev(j, omega_0)\n",
    "            nu = 2*omega_0*t.chebyshev(j-1, omega_0)/t.chebyshev(j, omega_0)\n",
    "            kappa = 1 - nu\n",
    "            \n",
    "            K[j] = -mu *step_size*gradU(K[j-1])+ nu*K[j-1]+ kappa*K[j-2]\n",
    "        data[i+1] = K[num_stages-1]\n",
    "        logPiTraces[i+1] = logPi(data[i+1])\n",
    "    return logPiTraces, data"
   ]
  },
  {
   "cell_type": "code",
   "execution_count": 7,
   "metadata": {},
   "outputs": [
    {
     "data": {
      "image/png": "[encoded data removed]",
      "text/plain": [
       "<Figure size 432x288 with 1 Axes>"
      ]
     },
     "metadata": {
      "needs_background": "light"
     },
     "output_type": "display_data"
    }
   ],
   "source": [
    "num_samples = 5000 #Generation of samples\n",
    "logPiTraces, images = sk_rock(fourier_op_adj(y), num_samples)\n",
    "plt.plot(range(num_samples),logPiTraces, linewidth=1, ls='--')\n",
    "plt.ticklabel_format(axis='both', style='sci', scilimits=(-24, -7))\n",
    "plt.show()"
   ]
  },
  {
   "cell_type": "code",
   "execution_count": null,
   "metadata": {},
   "outputs": [],
   "source": []
  }
 ],
 "metadata": {
  "kernelspec": {
   "display_name": "Python 3",
   "language": "python",
   "name": "python3"
  },
  "language_info": {
   "codemirror_mode": {
    "name": "ipython",
    "version": 3
   },
   "file_extension": ".py",
   "mimetype": "text/x-python",
   "name": "python",
   "nbconvert_exporter": "python",
   "pygments_lexer": "ipython3",
   "version": "3.5.2"
  }
 },
 "nbformat": 4,
 "nbformat_minor": 2
}
