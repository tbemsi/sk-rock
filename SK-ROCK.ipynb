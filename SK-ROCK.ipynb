{
 "cells": [
  {
   "cell_type": "markdown",
   "metadata": {},
   "source": [
    "# Implementing SK-ROCK algorithm - Application to CS-MRI\n",
    "\n",
    "In this notebook I implement the recently-developed algorithm by Luis Vargas, Marcelo Pereyra and Konstantinos Zygakalis found in [this paper](https://arxiv.org/pdf/1908.08845.pdf)."
   ]
  },
  {
   "cell_type": "code",
   "execution_count": 1,
   "metadata": {},
   "outputs": [
    {
     "name": "stdout",
     "output_type": "stream",
     "text": [
      "\n",
      "                 .|'''|       /.\\      '||'''|,\n",
      "                 ||          // \\\\      ||   ||\n",
      "'||''|, '||  ||` `|'''|,    //...\\\\     ||...|'\n",
      " ||  ||  `|..||   .   ||   //     \\\\    ||\n",
      " ||..|'      ||   |...|' .//       \\\\. .||\n",
      " ||       ,  |'\n",
      ".||        ''\n",
      "\n",
      "Package version: 0.0.3\n",
      "\n",
      "License: CeCILL-B\n",
      "\n",
      "Authors: \n",
      "\n",
      "Antoine Grigis <antoine.grigis@cea.fr>\n",
      "Samuel Farrens <samuel.farrens@cea.fr>\n",
      "Jean-Luc Starck <jl.stark@cea.fr>\n",
      "Philippe Ciuciu <philippe.ciuciu@cea.fr>\n",
      "\n",
      "Dependencies: \n",
      "\n",
      "nibabel        : >=2.3.2   - required | 2.5.1     installed\n",
      "matplotlib     : >=3.0.0   - required | 3.0.3     installed\n",
      "pysparse       : >=0.0.1   - required | 0.0.1     installed\n",
      "modopt         : >=1.4.0   - required | 1.4.0     installed\n",
      "scipy          : >=1.3.0   - required | 1.3.1     installed\n",
      "pyqtgraph      : >=0.10.0  - required | 0.10.0    installed\n",
      "scikit-learn   : >=0.19.1  - required | ?         installed\n",
      "progressbar2   : >=3.34.3  - required | ?         installed\n",
      "pywt           : >=1.0.0   - required | 1.0.3     installed\n",
      "numpy          : >=1.16.4  - required | 1.17.2    installed\n",
      "astropy        : >=3.0.0   - required | 2.0.4     installed\n",
      "\n"
     ]
    }
   ],
   "source": [
    "%matplotlib inline\n",
    "\n",
    "import numpy as np\n",
    "import matplotlib.pyplot as plt\n",
    "from numpy.fft import fftshift, ifftshift\n",
    "from skimage import data, img_as_float\n",
    "import helper as t\n",
    "\n",
    "import time\n",
    "from tqdm import tqdm_notebook\n",
    "\n",
    "import pysap\n",
    "from pysap.data import get_sample_data\n",
    "from mri.numerics.fourier import NFFT\n",
    "from mri.numerics.reconstruct import sparse_rec_fista\n",
    "from mri.numerics.reconstruct import sparse_rec_condatvu\n",
    "from mri.numerics.utils import generate_operators\n",
    "from mri.numerics.utils import convert_mask_to_locations\n",
    "\n",
    "# Third party import\n",
    "import numpy as np\n",
    "import scipy.fftpack as pfft"
   ]
  },
  {
   "cell_type": "markdown",
   "metadata": {},
   "source": [
    "The image we will be working with for the purposes of this project is the [Shepp Logan phantom](https://en.wikipedia.org/wiki/Shepp%E2%80%93Logan_phantom), and so we load it in the next cell."
   ]
  },
  {
   "cell_type": "code",
   "execution_count": 2,
   "metadata": {},
   "outputs": [
    {
     "data": {
      "image/png": "[encoded data removed]",
      "text/plain": [
       "<Figure size 720x576 with 1 Axes>"
      ]
     },
     "metadata": {
      "needs_background": "light"
     },
     "output_type": "display_data"
    }
   ],
   "source": [
    "fig =plt.figure(figsize=(10,8))\n",
    "phantom = np.load('phantom.npy')\n",
    "plt.imshow(phantom)\n",
    "plt.show()"
   ]
  },
  {
   "cell_type": "markdown",
   "metadata": {},
   "source": [
    "### The mask"
   ]
  },
  {
   "cell_type": "code",
   "execution_count": 3,
   "metadata": {},
   "outputs": [],
   "source": [
    "mask_temp = t.LineMask(number_of_angles=36, dim=128)\n",
    "mask = fftshift(mask_temp)\n",
    "kspace_loc = convert_mask_to_locations(mask)\n",
    "fourier_op = NFFT(samples=kspace_loc, shape=phantom.shape)\n",
    "kspace_data = fourier_op.op(phantom)\n",
    "#fourier_op = lambda x: t.masked_FFT(x, mask)\n",
    "#fourier_op_adj = lambda x: np.real(t.masked_FFT_t(x, mask))"
   ]
  },
  {
   "cell_type": "code",
   "execution_count": 4,
   "metadata": {},
   "outputs": [
    {
     "data": {
      "image/png": "[encoded data removed]",
      "text/plain": [
       "<Figure size 720x576 with 1 Axes>"
      ]
     },
     "metadata": {
      "needs_background": "light"
     },
     "output_type": "display_data"
    }
   ],
   "source": [
    "fig =plt.figure(figsize=(10,8))\n",
    "plt.imshow(mask)\n",
    "plt.show()"
   ]
  },
  {
   "cell_type": "markdown",
   "metadata": {},
   "source": [
    "### Generation of noisy image (prior)"
   ]
  },
  {
   "cell_type": "code",
   "execution_count": 5,
   "metadata": {},
   "outputs": [],
   "source": [
    "## generate 'y'\n",
    "sigma = 1e-3/np.sqrt(2)\n",
    "transformed_data = fourier_op.op(phantom)\n",
    "#y = transformed_data + sigma*(np.random.randn(transformed_data.size)+ \n",
    "#                             1j*np.random.randn(transformed_data.size))"
   ]
  },
  {
   "cell_type": "markdown",
   "metadata": {},
   "source": [
    "## SK-ROCK Algorithm\n",
    "\n",
    "The following function generates a given number of samples, given original data, according to the SK-ROCK algorithm"
   ]
  },
  {
   "cell_type": "code",
   "execution_count": 6,
   "metadata": {},
   "outputs": [],
   "source": [
    "def sk_rock(observations, num_samples, sigma=1e-3/np.sqrt(2), num_stages=10, eta=0.05 ):\n",
    "    \"\"\"\n",
    "    Generates samples from high-dimensional distributions, according to SK-ROCK \n",
    "    algorithm proposed by Luis Vargas et al (2019).\n",
    "    \n",
    "    INPUTS:\n",
    "     - original_guess: initialisation of algorithm\n",
    "     - image: number of samples to generate\n",
    "     - sigma, eta: hyperparameters of prior\n",
    "     - num_stages: number of internal Runge-Kutta stages\n",
    "    \n",
    "    OUTPUTS:\n",
    "     - the total-variation proximal operator of the image\n",
    "     \n",
    "    \"\"\"\n",
    "    alpha = 5e-4/sigma**2 # hyperparameter of prior\n",
    "    lam = 0.2 *sigma**2  #approximation parameter of the MY envelop\n",
    "    lipschitz_log_likelihood = 1/sigma**2 #Lipschitz constant of the log-likelihood \n",
    "    original_guess = fourier_op.adj_op(observations)\n",
    "    \n",
    "    \n",
    "    ## Gradients - proximal gradients and other functions\n",
    "    def gradF(x):\n",
    "        return (fourier_op.adj_op(fourier_op.op(x) - observations))/sigma**2\n",
    "        \n",
    "    \n",
    "    def proxG(x, param=alpha*lam):\n",
    "        return t.chambolle_prox_TV(x, param, 25)\n",
    "    \n",
    "    def gradG(x):\n",
    "        return (x - proxG(x))/lam\n",
    "    \n",
    "    def gradU(x):\n",
    "        return gradF(x) + gradG(x)\n",
    "    \n",
    "    def logPi(x):\n",
    "        return -(np.linalg.norm(observations - fourier_op.op(x))**2)/(2*sigma**2) - alpha*t.TVnorm(x)\n",
    "    \n",
    "       \n",
    "    l = (num_stages - 0.5)**2 * (2 - (4/3)*eta) - 1.5\n",
    "    step_size = 0.8*l/(lipschitz_log_likelihood + 1/lam)\n",
    "        \n",
    "    omega_0 = 1 + eta/num_stages**2\n",
    "    omega_1 = t.chebyshev(num_stages, omega_0)/t.chebyshev_prime(num_stages, omega_0)\n",
    "    mu_1 = omega_1/omega_0\n",
    "    nu_1 = num_stages*omega_1/2\n",
    "    kappa_1 = num_stages*omega_1/omega_0\n",
    "    dimension = original_guess.shape[0]\n",
    "    \n",
    "    \n",
    "    K = np.ndarray((num_stages, dimension, dimension), dtype=np.complex64)\n",
    "    data = np.ndarray((num_samples, dimension, dimension), dtype=np.complex64)\n",
    "    logPiTraces = np.zeros(num_samples)\n",
    "    data[0] = original_guess\n",
    "    logPiTraces[0] = logPi(data[0])\n",
    "    \n",
    "    for i in tqdm_notebook(range(num_samples-1)):\n",
    "        Z = np.random.randn(dimension, dimension)\n",
    "        K[0] = data[i]\n",
    "        K[1] = K[0] - mu_1*step_size*gradU(K[0] + \n",
    "                    nu_1*np.sqrt(2*step_size)*Z) + kappa_1*np.sqrt(2*step_size)*Z\n",
    "        \n",
    "        for j in range(2,num_stages):\n",
    "            mu = 2*omega_1*t.chebyshev(j-1, omega_0)/t.chebyshev(j, omega_0)\n",
    "            nu = 2*omega_0*t.chebyshev(j-1, omega_0)/t.chebyshev(j, omega_0)\n",
    "            kappa = 1 - nu\n",
    "            \n",
    "            K[j] = -mu *step_size*gradU(K[j-1])+ nu*K[j-1]+ kappa*K[j-2]\n",
    "        data[i+1] = K[num_stages-1]\n",
    "        logPiTraces[i+1] = logPi(data[i+1])\n",
    "    return logPiTraces, data"
   ]
  },
  {
   "cell_type": "code",
   "execution_count": 7,
   "metadata": {},
   "outputs": [
    {
     "name": "stderr",
     "output_type": "stream",
     "text": [
      "/volatile/home/bemsi/bemsi-python/lib/python3.5/site-packages/ipykernel_launcher.py:55: ComplexWarning: Casting complex values to real discards the imaginary part\n"
     ]
    },
    {
     "data": {
      "application/vnd.jupyter.widget-view+json": {
       "model_id": "e534415444514b36b1d5243fe1084d8c",
       "version_major": 2,
       "version_minor": 0
      },
      "text/plain": [
       "HBox(children=(IntProgress(value=0, max=99), HTML(value='')))"
      ]
     },
     "metadata": {},
     "output_type": "display_data"
    },
    {
     "name": "stderr",
     "output_type": "stream",
     "text": [
      "/volatile/home/bemsi/bemsi-python/lib/python3.5/site-packages/ipykernel_launcher.py:70: ComplexWarning: Casting complex values to real discards the imaginary part\n"
     ]
    },
    {
     "name": "stdout",
     "output_type": "stream",
     "text": [
      "\n"
     ]
    },
    {
     "data": {
      "image/png": "[encoded data removed]",
      "text/plain": [
       "<Figure size 432x288 with 1 Axes>"
      ]
     },
     "metadata": {
      "needs_background": "light"
     },
     "output_type": "display_data"
    }
   ],
   "source": [
    "num_samples = 100 #Generation of samples\n",
    "logPiTraces, images = sk_rock(kspace_data, num_samples)\n",
    "plt.plot(range(num_samples),logPiTraces, linewidth=1, ls='--')\n",
    "plt.ticklabel_format(axis='both', style='sci', scilimits=(-24, -7))\n",
    "plt.show()"
   ]
  },
  {
   "cell_type": "code",
   "execution_count": 8,
   "metadata": {},
   "outputs": [
    {
     "data": {
      "text/plain": [
       "<matplotlib.image.AxesImage at 0x7fd70845ccc0>"
      ]
     },
     "execution_count": 8,
     "metadata": {},
     "output_type": "execute_result"
    },
    {
     "data": {
      "image/png": "[encoded data removed]",
      "text/plain": [
       "<Figure size 432x288 with 1 Axes>"
      ]
     },
     "metadata": {
      "needs_background": "light"
     },
     "output_type": "display_data"
    }
   ],
   "source": [
    "plt.imshow(abs(images[-1]))"
   ]
  },
  {
   "cell_type": "code",
   "execution_count": null,
   "metadata": {},
   "outputs": [],
   "source": []
  }
 ],
 "metadata": {
  "kernelspec": {
   "display_name": "Python 3",
   "language": "python",
   "name": "python3"
  },
  "language_info": {
   "codemirror_mode": {
    "name": "ipython",
    "version": 3
   },
   "file_extension": ".py",
   "mimetype": "text/x-python",
   "name": "python",
   "nbconvert_exporter": "python",
   "pygments_lexer": "ipython3",
   "version": "3.5.2"
  }
 },
 "nbformat": 4,
 "nbformat_minor": 2
}
